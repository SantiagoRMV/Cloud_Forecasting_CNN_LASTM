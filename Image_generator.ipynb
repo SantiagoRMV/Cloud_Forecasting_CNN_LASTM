{
 "cells": [
  {
   "cell_type": "code",
   "execution_count": 1,
   "metadata": {},
   "outputs": [],
   "source": [
    "import os\n",
    "import xarray as xr\n",
    "import pandas as pd\n",
    "import matplotlib.pyplot as plt\n",
    "from datetime import datetime\n",
    "import re"
   ]
  },
  {
   "cell_type": "code",
   "execution_count": 2,
   "metadata": {},
   "outputs": [],
   "source": [
    "# Ruta a la carpeta donde están los archivos\n",
    "carpeta_archivos = 'GOES_Files/ACMF/'\n",
    "output_folder = 'Images/ACMF/'\n",
    "\n",
    "# Crear la carpeta de salida si no existe\n",
    "os.makedirs(output_folder, exist_ok=True)"
   ]
  },
  {
   "cell_type": "code",
   "execution_count": 3,
   "metadata": {},
   "outputs": [],
   "source": [
    "# Rango de fechas\n",
    "#fecha_inicio = '2023-07-01 05:00:00'\n",
    "#fecha_fin = '2023-07-07 18:30:00'\n",
    "\n",
    "fecha_inicio = datetime.strptime('2023-07-11 05:00:00', '%Y-%m-%d %H:%M:%S')\n",
    "fecha_fin = datetime.strptime('2023-07-12 18:30:00', '%Y-%m-%d %H:%M:%S')"
   ]
  },
  {
   "cell_type": "code",
   "execution_count": 4,
   "metadata": {},
   "outputs": [],
   "source": [
    "ncs = [f'GOES_Files/ACMF/{i}' for i in os.listdir(carpeta_archivos) if i.endswith('.nc')]\n",
    "ncs = sorted(ncs)"
   ]
  },
  {
   "cell_type": "code",
   "execution_count": 5,
   "metadata": {},
   "outputs": [],
   "source": [
    "# Lista para almacenar los datos\n",
    "das = []\n",
    "\n",
    "for nc in ncs:\n",
    "    # Extraer la fecha desde el nombre del archivo usando regex\n",
    "    match = re.search(r's(\\d{4})(\\d{2})(\\d{2})(\\d{2})(\\d{2})(\\d{2})', nc)\n",
    "    if match:\n",
    "        # Convertir la fecha extraída al formato datetime\n",
    "        fecha_archivo = datetime(\n",
    "            year=int(match.group(1)), \n",
    "            month=int(match.group(2)), \n",
    "            day=int(match.group(3)),\n",
    "            hour=int(match.group(4)), \n",
    "            minute=int(match.group(5)), \n",
    "            second=int(match.group(6))\n",
    "        )\n",
    "        \n",
    "        # Filtrar archivos según el rango de fechas\n",
    "        if fecha_inicio <= fecha_archivo <= fecha_fin:\n",
    "            ds = xr.open_dataset(nc).sel(x=slice(-0.01, 0.03), y=slice(0.05, 0.01))\n",
    "            \n",
    "            # Añadir el dataset a la lista para concatenar\n",
    "            das.append(ds)"
   ]
  },
  {
   "cell_type": "code",
   "execution_count": 6,
   "metadata": {},
   "outputs": [],
   "source": [
    "# Concatenar todos los datasets y estandarizar el tiempo a intervalos de 10 minutos\n",
    "ds_col = xr.concat(das, dim='t')\n",
    "ds_col['t'] = [pd.Timestamp(i, tz='UTC').floor('10min') for i in ds_col.t.values]"
   ]
  },
  {
   "cell_type": "code",
   "execution_count": 7,
   "metadata": {},
   "outputs": [],
   "source": [
    "# Guardar imágenes para cada archivo procesado\n",
    "for i, ds in enumerate(ds_col.groupby('t')):\n",
    "    tiempo = ds[0]\n",
    "    variable = ds[1]['ACM']  # Usar la variable 'ACM'\n",
    "    variable.plot()\n",
    "\n",
    "    # Convertir el valor de tiempo a una cadena adecuada para un nombre de archivo\n",
    "    tiempo_str = tiempo.strftime('%Y%m%d_%H%M%S')\n",
    "\n",
    "    # Guardar la figura en el folder especificado como JPG, usando el valor de 't' como nombre\n",
    "    output_path = os.path.join(output_folder, f\"ACMF_{tiempo_str}.jpg\")\n",
    "    plt.savefig(output_path, format='jpg')\n",
    "    \n",
    "    # Cerrar la figura para liberar memoria\n",
    "    plt.close()"
   ]
  }
 ],
 "metadata": {
  "kernelspec": {
   "display_name": "base",
   "language": "python",
   "name": "python3"
  },
  "language_info": {
   "codemirror_mode": {
    "name": "ipython",
    "version": 3
   },
   "file_extension": ".py",
   "mimetype": "text/x-python",
   "name": "python",
   "nbconvert_exporter": "python",
   "pygments_lexer": "ipython3",
   "version": "3.11.5"
  }
 },
 "nbformat": 4,
 "nbformat_minor": 2
}
