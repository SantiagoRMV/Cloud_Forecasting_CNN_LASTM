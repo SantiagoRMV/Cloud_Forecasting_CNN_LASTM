{
 "cells": [
  {
   "cell_type": "code",
   "execution_count": 1,
   "metadata": {},
   "outputs": [],
   "source": [
    "import os\n",
    "import GOES as GOES"
   ]
  },
  {
   "cell_type": "code",
   "execution_count": null,
   "metadata": {},
   "outputs": [],
   "source": [
    "satelite = 'goes16'                       # Satelite de la serie GOES-R del cual se requiere información\n",
    "producto = 'ABI-L2-ACMF'                 # Producto del Satelite del cual se requiere información\n",
    "fecha_hora_inicio = '20230708-050000'     # Fecha Inicio desde donde se descargara información\n",
    "fecha_hora_fin = '20230710-183000'        # Fecha fin hasta donde se descargara información\n",
    "canales = ['']                            # Algunos productos se descargan por canal o banda, aqui se especifican que bandas se requieren\n",
    "formato_fecha = '%Y%m%d%H%M%S'            # Se define un formato en como se almacenara la fecha de los archivos\n",
    "carpeta_almacenamiento = 'GOES_Files/ACMF/'  # Ruta en donde se almacenaran los archivos localmente\n",
    "\n",
    "# Verifica si la carpeta de almacenamiento existe; si no, la crea\n",
    "if not os.path.exists(carpeta_almacenamiento):\n",
    "    os.makedirs(carpeta_almacenamiento)\n",
    "    print(f\"Carpeta creada: {carpeta_almacenamiento}\")\n",
    "else:\n",
    "    print(f\"La carpeta ya existe: {carpeta_almacenamiento}\")\n",
    "\n",
    "# Funcion GOES.download que permite basada en los parametros anteriores descargar los archivos .nc\n",
    "\n",
    "GOES.download(satelite, producto,\n",
    "                DateTimeIni = fecha_hora_inicio, DateTimeFin = fecha_hora_fin,\n",
    "                channel = canales,\n",
    "                rename_fmt = formato_fecha, path_out=carpeta_almacenamiento)"
   ]
  }
 ],
 "metadata": {
  "kernelspec": {
   "display_name": "base",
   "language": "python",
   "name": "python3"
  },
  "language_info": {
   "codemirror_mode": {
    "name": "ipython",
    "version": 3
   },
   "file_extension": ".py",
   "mimetype": "text/x-python",
   "name": "python",
   "nbconvert_exporter": "python",
   "pygments_lexer": "ipython3",
   "version": "3.11.5"
  }
 },
 "nbformat": 4,
 "nbformat_minor": 2
}
