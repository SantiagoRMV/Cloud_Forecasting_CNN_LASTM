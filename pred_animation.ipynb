{
 "cells": [
  {
   "cell_type": "code",
   "execution_count": 2,
   "metadata": {},
   "outputs": [],
   "source": [
    "import os\n",
    "from PIL import Image"
   ]
  },
  {
   "cell_type": "code",
   "execution_count": 3,
   "metadata": {},
   "outputs": [
    {
     "name": "stdout",
     "output_type": "stream",
     "text": [
      "GIF creado con éxito: Images/Gif/forecast_clouds.gif\n"
     ]
    }
   ],
   "source": [
    "# Ruta de la carpeta donde se encuentran las imágenes\n",
    "carpeta_imagenes = 'Images/Forecast'\n",
    "\n",
    "# Ruta y nombre del archivo GIF de salida\n",
    "output_gif = 'Images/Gif/forecast_clouds.gif'\n",
    "\n",
    "# Obtener la lista de archivos .png en la carpeta\n",
    "imagenes = [img for img in os.listdir(carpeta_imagenes) if img.endswith('.png')]\n",
    "\n",
    "# Ordenar las imágenes si es necesario (por nombre)\n",
    "imagenes.sort()\n",
    "\n",
    "# Cargar las imágenes\n",
    "frames = [Image.open(os.path.join(carpeta_imagenes, img)) for img in imagenes]\n",
    "\n",
    "# Crear el GIF\n",
    "frames[0].save(\n",
    "    output_gif,\n",
    "    format='GIF',\n",
    "    append_images=frames[1:],\n",
    "    save_all=True,\n",
    "    duration=300,  # Duración de cada frame en milisegundos\n",
    "    loop=0  # 0 significa que el GIF se reproducirá indefinidamente\n",
    ")\n",
    "\n",
    "print(f'GIF creado con éxito: {output_gif}')"
   ]
  }
 ],
 "metadata": {
  "kernelspec": {
   "display_name": "base",
   "language": "python",
   "name": "python3"
  },
  "language_info": {
   "codemirror_mode": {
    "name": "ipython",
    "version": 3
   },
   "file_extension": ".py",
   "mimetype": "text/x-python",
   "name": "python",
   "nbconvert_exporter": "python",
   "pygments_lexer": "ipython3",
   "version": "3.11.5"
  }
 },
 "nbformat": 4,
 "nbformat_minor": 2
}
